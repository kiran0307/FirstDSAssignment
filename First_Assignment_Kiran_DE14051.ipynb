{
 "cells": [
  {
   "cell_type": "markdown",
   "id": "d129c1f4",
   "metadata": {},
   "source": [
    "# Lab Excercise Assignment 1"
   ]
  },
  {
   "cell_type": "markdown",
   "id": "6e7f299b",
   "metadata": {},
   "source": [
    "## Code cells and markdown cells"
   ]
  },
  {
   "cell_type": "code",
   "execution_count": null,
   "id": "5ac09cbb",
   "metadata": {},
   "outputs": [],
   "source": []
  },
  {
   "cell_type": "code",
   "execution_count": null,
   "id": "f0363194",
   "metadata": {},
   "outputs": [],
   "source": []
  },
  {
   "cell_type": "code",
   "execution_count": 1,
   "id": "ca4760d2",
   "metadata": {},
   "outputs": [],
   "source": [
    "# Welcome to UMBC Introduction to Data Science Course DATA601"
   ]
  },
  {
   "cell_type": "markdown",
   "id": "97527e68",
   "metadata": {},
   "source": [
    "# Welcome to UMBC Introduction to Data Science Course DATA601"
   ]
  },
  {
   "cell_type": "markdown",
   "id": "41dba4f6",
   "metadata": {},
   "source": [
    "***1. The first output differs from the second as code cell compiles the code in the python. However, the second cell just displays the text as markdown cell  displays the text which can be formatted as a markdown language***"
   ]
  },
  {
   "cell_type": "code",
   "execution_count": null,
   "id": "52b66d68",
   "metadata": {},
   "outputs": [],
   "source": []
  },
  {
   "cell_type": "code",
   "execution_count": null,
   "id": "590bb45a",
   "metadata": {},
   "outputs": [],
   "source": []
  },
  {
   "cell_type": "code",
   "execution_count": 2,
   "id": "9f763b0a",
   "metadata": {},
   "outputs": [
    {
     "name": "stdout",
     "output_type": "stream",
     "text": [
      "Welcome To UMBC Introduction to Data Science Course!\n"
     ]
    }
   ],
   "source": [
    "print('Welcome To UMBC Introduction to Data Science Course!')"
   ]
  },
  {
   "cell_type": "markdown",
   "id": "2a1b4b7e",
   "metadata": {},
   "source": [
    "print('Welcome To UMBC Introduction to Data Science Course!')"
   ]
  },
  {
   "cell_type": "markdown",
   "id": "4d559674",
   "metadata": {},
   "source": [
    "***2.  The first code cell uses inbuilt python print function to print the output. However, the markdown cells displays the whole text***"
   ]
  },
  {
   "cell_type": "code",
   "execution_count": null,
   "id": "da6b69ec",
   "metadata": {},
   "outputs": [],
   "source": []
  },
  {
   "cell_type": "code",
   "execution_count": null,
   "id": "48bf7671",
   "metadata": {},
   "outputs": [],
   "source": []
  },
  {
   "cell_type": "markdown",
   "id": "da3e27ce",
   "metadata": {},
   "source": [
    "# BIG heading\n",
    "\n",
    "## Big heading\n",
    "\n",
    "### SMALL heading\n",
    "\n",
    "#### small heading"
   ]
  },
  {
   "cell_type": "code",
   "execution_count": null,
   "id": "7ae547aa",
   "metadata": {},
   "outputs": [],
   "source": []
  },
  {
   "cell_type": "code",
   "execution_count": null,
   "id": "6a3c37f2",
   "metadata": {},
   "outputs": [],
   "source": []
  },
  {
   "cell_type": "markdown",
   "id": "6e80dfcc",
   "metadata": {},
   "source": [
    "import numpy as np\n",
    "import matplotlib.pyplot as plt\n",
    "%matplotlib inline"
   ]
  },
  {
   "cell_type": "markdown",
   "id": "fe0480d7",
   "metadata": {},
   "source": []
  },
  {
   "cell_type": "code",
   "execution_count": null,
   "id": "1f85d1c5",
   "metadata": {},
   "outputs": [],
   "source": []
  },
  {
   "cell_type": "markdown",
   "id": "723c44ac",
   "metadata": {},
   "source": [
    "## Bullets"
   ]
  },
  {
   "cell_type": "markdown",
   "id": "d43c1fd7",
   "metadata": {},
   "source": [
    "* markdown cell : markdown\n",
    "\n",
    "* code cell: Python code\n",
    "\n",
    "* raw NBConvert: LaTeX"
   ]
  },
  {
   "cell_type": "code",
   "execution_count": null,
   "id": "2b874aae",
   "metadata": {},
   "outputs": [],
   "source": []
  },
  {
   "cell_type": "code",
   "execution_count": null,
   "id": "b8db2902",
   "metadata": {},
   "outputs": [],
   "source": []
  },
  {
   "cell_type": "markdown",
   "id": "152cd172",
   "metadata": {},
   "source": [
    "## Colors"
   ]
  },
  {
   "cell_type": "markdown",
   "id": "c4595a7a",
   "metadata": {},
   "source": [
    "<span style=\"color: red;\">Red</span>\n",
    "<br>\n",
    "<span style=\"color: green;\">Green</span>\n",
    "<br>\n",
    "<span style=\"color: blue;\">Blue</span>"
   ]
  },
  {
   "cell_type": "code",
   "execution_count": null,
   "id": "bb11afe1",
   "metadata": {},
   "outputs": [],
   "source": []
  },
  {
   "cell_type": "code",
   "execution_count": null,
   "id": "87ba4818",
   "metadata": {},
   "outputs": [],
   "source": []
  },
  {
   "cell_type": "markdown",
   "id": "c17e3bb7",
   "metadata": {},
   "source": [
    "## Latex Math"
   ]
  },
  {
   "cell_type": "markdown",
   "id": "fd5827a1",
   "metadata": {},
   "source": [
    "$a^2+b^2 = c^2$"
   ]
  },
  {
   "cell_type": "code",
   "execution_count": null,
   "id": "2576bc21",
   "metadata": {},
   "outputs": [],
   "source": []
  },
  {
   "cell_type": "code",
   "execution_count": null,
   "id": "b640863d",
   "metadata": {},
   "outputs": [],
   "source": []
  },
  {
   "cell_type": "markdown",
   "id": "b73ff8e5",
   "metadata": {},
   "source": [
    "## Zen of Python"
   ]
  },
  {
   "cell_type": "code",
   "execution_count": 5,
   "id": "b5198059",
   "metadata": {},
   "outputs": [
    {
     "name": "stdout",
     "output_type": "stream",
     "text": [
      "The Zen of Python, by Tim Peters\n",
      "\n",
      "Beautiful is better than ugly.\n",
      "Explicit is better than implicit.\n",
      "Simple is better than complex.\n",
      "Complex is better than complicated.\n",
      "Flat is better than nested.\n",
      "Sparse is better than dense.\n",
      "Readability counts.\n",
      "Special cases aren't special enough to break the rules.\n",
      "Although practicality beats purity.\n",
      "Errors should never pass silently.\n",
      "Unless explicitly silenced.\n",
      "In the face of ambiguity, refuse the temptation to guess.\n",
      "There should be one-- and preferably only one --obvious way to do it.\n",
      "Although that way may not be obvious at first unless you're Dutch.\n",
      "Now is better than never.\n",
      "Although never is often better than *right* now.\n",
      "If the implementation is hard to explain, it's a bad idea.\n",
      "If the implementation is easy to explain, it may be a good idea.\n",
      "Namespaces are one honking great idea -- let's do more of those!\n"
     ]
    }
   ],
   "source": [
    "import this"
   ]
  },
  {
   "cell_type": "markdown",
   "id": "c3257c64",
   "metadata": {},
   "source": [
    "***The Zen of python explains the meaningful and proper use of python programming language to the prorammers*** "
   ]
  },
  {
   "cell_type": "code",
   "execution_count": null,
   "id": "f3c17fcc",
   "metadata": {},
   "outputs": [],
   "source": []
  },
  {
   "cell_type": "code",
   "execution_count": null,
   "id": "c8b5482e",
   "metadata": {},
   "outputs": [],
   "source": []
  },
  {
   "cell_type": "markdown",
   "id": "0fad6914",
   "metadata": {},
   "source": [
    "## Python Version"
   ]
  },
  {
   "cell_type": "code",
   "execution_count": 6,
   "id": "8acb07fe",
   "metadata": {},
   "outputs": [
    {
     "name": "stdout",
     "output_type": "stream",
     "text": [
      "3.9.12 (main, Apr  4 2022, 05:22:27) [MSC v.1916 64 bit (AMD64)]\n"
     ]
    }
   ],
   "source": [
    "import sys\n",
    "print(sys.version)"
   ]
  },
  {
   "cell_type": "code",
   "execution_count": null,
   "id": "e84419e9",
   "metadata": {},
   "outputs": [],
   "source": []
  },
  {
   "cell_type": "code",
   "execution_count": null,
   "id": "db2cf4d0",
   "metadata": {},
   "outputs": [],
   "source": []
  },
  {
   "cell_type": "markdown",
   "id": "5b3a1024",
   "metadata": {},
   "source": [
    "## Directory"
   ]
  },
  {
   "cell_type": "code",
   "execution_count": 7,
   "id": "5215e354",
   "metadata": {},
   "outputs": [
    {
     "name": "stdout",
     "output_type": "stream",
     "text": [
      "C:\\Users\\Windows\\Desktop\\1st  Semester\\DATA 601\\1st week\n"
     ]
    },
    {
     "data": {
      "text/plain": [
       "'C:\\\\Users\\\\Windows\\\\Desktop\\\\1st  Semester\\\\DATA 601\\\\1st week'"
      ]
     },
     "execution_count": 7,
     "metadata": {},
     "output_type": "execute_result"
    }
   ],
   "source": [
    "import os\n",
    "\n",
    "print(os.getcwd())\n",
    "\n",
    "%pwd"
   ]
  },
  {
   "cell_type": "code",
   "execution_count": null,
   "id": "00a51844",
   "metadata": {},
   "outputs": [],
   "source": []
  },
  {
   "cell_type": "code",
   "execution_count": null,
   "id": "03d3a60b",
   "metadata": {},
   "outputs": [],
   "source": []
  },
  {
   "cell_type": "markdown",
   "id": "7b2e566c",
   "metadata": {},
   "source": [
    "## Executing py files in ipython interperator/command line"
   ]
  },
  {
   "cell_type": "code",
   "execution_count": 10,
   "id": "d82dafb7",
   "metadata": {},
   "outputs": [
    {
     "name": "stdout",
     "output_type": "stream",
     "text": [
      "Hello UMBC Data Science Enthusiasts!\n"
     ]
    }
   ],
   "source": [
    "%run hello.py"
   ]
  },
  {
   "cell_type": "code",
   "execution_count": null,
   "id": "277fb3a9",
   "metadata": {},
   "outputs": [],
   "source": []
  },
  {
   "cell_type": "code",
   "execution_count": null,
   "id": "1c745089",
   "metadata": {},
   "outputs": [],
   "source": []
  },
  {
   "cell_type": "markdown",
   "id": "51ac1ca0",
   "metadata": {},
   "source": [
    "# RollDieDynamic.py"
   ]
  },
  {
   "cell_type": "markdown",
   "id": "5c67faf3",
   "metadata": {},
   "source": [
    "![Simulation%201.PNG](attachment:Simulation%201.PNG)"
   ]
  },
  {
   "cell_type": "markdown",
   "id": "97464bb6",
   "metadata": {},
   "source": [
    "![Simulation%202.PNG](attachment:Simulation%202.PNG)"
   ]
  },
  {
   "cell_type": "markdown",
   "id": "7962b774",
   "metadata": {},
   "source": [
    "![Simulation%203.PNG](attachment:Simulation%203.PNG)"
   ]
  },
  {
   "cell_type": "markdown",
   "id": "3d991bbd",
   "metadata": {},
   "source": [
    "***On observing above three simulations the output graph clearly states the varying frequencies of faces per roll. Moreover, the frequency of the faces change when the rolling count of the die increases. In the proram we can see that the number of die rolls are looped so that we can have multiple number of frequencies are possible for a face for different rolls.*** "
   ]
  },
  {
   "cell_type": "code",
   "execution_count": null,
   "id": "046211f7",
   "metadata": {},
   "outputs": [],
   "source": []
  },
  {
   "cell_type": "code",
   "execution_count": null,
   "id": "e4565592",
   "metadata": {},
   "outputs": [],
   "source": []
  },
  {
   "cell_type": "markdown",
   "id": "ab63a2a2",
   "metadata": {},
   "source": [
    "# Getting Help Excercise"
   ]
  },
  {
   "cell_type": "markdown",
   "id": "412ea9cd",
   "metadata": {},
   "source": [
    "### Use Python’s dir() function"
   ]
  },
  {
   "cell_type": "code",
   "execution_count": 3,
   "id": "866d17d5",
   "metadata": {},
   "outputs": [
    {
     "data": {
      "text/plain": [
       "['__doc__',\n",
       " '__loader__',\n",
       " '__name__',\n",
       " '__package__',\n",
       " '__spec__',\n",
       " 'acos',\n",
       " 'acosh',\n",
       " 'asin',\n",
       " 'asinh',\n",
       " 'atan',\n",
       " 'atan2',\n",
       " 'atanh',\n",
       " 'ceil',\n",
       " 'comb',\n",
       " 'copysign',\n",
       " 'cos',\n",
       " 'cosh',\n",
       " 'degrees',\n",
       " 'dist',\n",
       " 'e',\n",
       " 'erf',\n",
       " 'erfc',\n",
       " 'exp',\n",
       " 'expm1',\n",
       " 'fabs',\n",
       " 'factorial',\n",
       " 'floor',\n",
       " 'fmod',\n",
       " 'frexp',\n",
       " 'fsum',\n",
       " 'gamma',\n",
       " 'gcd',\n",
       " 'hypot',\n",
       " 'inf',\n",
       " 'isclose',\n",
       " 'isfinite',\n",
       " 'isinf',\n",
       " 'isnan',\n",
       " 'isqrt',\n",
       " 'lcm',\n",
       " 'ldexp',\n",
       " 'lgamma',\n",
       " 'log',\n",
       " 'log10',\n",
       " 'log1p',\n",
       " 'log2',\n",
       " 'modf',\n",
       " 'nan',\n",
       " 'nextafter',\n",
       " 'perm',\n",
       " 'pi',\n",
       " 'pow',\n",
       " 'prod',\n",
       " 'radians',\n",
       " 'remainder',\n",
       " 'sin',\n",
       " 'sinh',\n",
       " 'sqrt',\n",
       " 'tan',\n",
       " 'tanh',\n",
       " 'tau',\n",
       " 'trunc',\n",
       " 'ulp']"
      ]
     },
     "execution_count": 3,
     "metadata": {},
     "output_type": "execute_result"
    }
   ],
   "source": [
    "import math\n",
    "dir(math)"
   ]
  },
  {
   "cell_type": "code",
   "execution_count": null,
   "id": "cde0f6d7",
   "metadata": {},
   "outputs": [],
   "source": []
  },
  {
   "cell_type": "code",
   "execution_count": null,
   "id": "d1715f20",
   "metadata": {},
   "outputs": [],
   "source": []
  },
  {
   "cell_type": "markdown",
   "id": "aadc9c81",
   "metadata": {},
   "source": [
    "### import math and run math.sqrt"
   ]
  },
  {
   "cell_type": "code",
   "execution_count": 32,
   "id": "57e36089",
   "metadata": {},
   "outputs": [
    {
     "name": "stdout",
     "output_type": "stream",
     "text": [
      "Help on built-in function sqrt in module math:\n",
      "\n",
      "sqrt(x, /)\n",
      "    Return the square root of x.\n",
      "\n"
     ]
    }
   ],
   "source": [
    "import math\n",
    "help(math.sqrt)"
   ]
  },
  {
   "cell_type": "code",
   "execution_count": 31,
   "id": "8cbf474b",
   "metadata": {},
   "outputs": [
    {
     "data": {
      "text/plain": [
       "1.4142135623730951"
      ]
     },
     "execution_count": 31,
     "metadata": {},
     "output_type": "execute_result"
    }
   ],
   "source": [
    "math.sqrt(2)"
   ]
  },
  {
   "cell_type": "markdown",
   "id": "ea7c3bdf",
   "metadata": {},
   "source": [
    "Help on built-in function sqrt in module math:\n",
    "\n",
    "sqrt(x, /)\n",
    "    Return the square root of x."
   ]
  },
  {
   "cell_type": "markdown",
   "id": "55ea63bf",
   "metadata": {},
   "source": [
    "### import statistics and run statistics.mode"
   ]
  },
  {
   "cell_type": "code",
   "execution_count": 3,
   "id": "e1f0614a",
   "metadata": {},
   "outputs": [
    {
     "name": "stdout",
     "output_type": "stream",
     "text": [
      "Help on function mode in module statistics:\n",
      "\n",
      "mode(data)\n",
      "    Return the most common data point from discrete or nominal data.\n",
      "    \n",
      "    ``mode`` assumes discrete data, and returns a single value. This is the\n",
      "    standard treatment of the mode as commonly taught in schools:\n",
      "    \n",
      "        >>> mode([1, 1, 2, 3, 3, 3, 3, 4])\n",
      "        3\n",
      "    \n",
      "    This also works with nominal (non-numeric) data:\n",
      "    \n",
      "        >>> mode([\"red\", \"blue\", \"blue\", \"red\", \"green\", \"red\", \"red\"])\n",
      "        'red'\n",
      "    \n",
      "    If there are multiple modes with same frequency, return the first one\n",
      "    encountered:\n",
      "    \n",
      "        >>> mode(['red', 'red', 'green', 'blue', 'blue'])\n",
      "        'red'\n",
      "    \n",
      "    If *data* is empty, ``mode``, raises StatisticsError.\n",
      "\n"
     ]
    }
   ],
   "source": [
    "import statistics\n",
    "help(statistics.mode)"
   ]
  },
  {
   "cell_type": "code",
   "execution_count": 25,
   "id": "d01597c0",
   "metadata": {},
   "outputs": [
    {
     "data": {
      "text/plain": [
       "3"
      ]
     },
     "execution_count": 25,
     "metadata": {},
     "output_type": "execute_result"
    }
   ],
   "source": [
    "statistics.mode([1, 1, 2, 3, 3, 3, 3, 4])"
   ]
  },
  {
   "cell_type": "code",
   "execution_count": 26,
   "id": "66d791fc",
   "metadata": {},
   "outputs": [
    {
     "data": {
      "text/plain": [
       "'red'"
      ]
     },
     "execution_count": 26,
     "metadata": {},
     "output_type": "execute_result"
    }
   ],
   "source": [
    "statistics.mode([\"red\", \"blue\", \"blue\", \"red\", \"green\", \"red\", \"red\"])"
   ]
  },
  {
   "cell_type": "code",
   "execution_count": 27,
   "id": "e78527b3",
   "metadata": {},
   "outputs": [
    {
     "data": {
      "text/plain": [
       "'red'"
      ]
     },
     "execution_count": 27,
     "metadata": {},
     "output_type": "execute_result"
    }
   ],
   "source": [
    "statistics.mode(['red', 'red', 'green', 'blue', 'blue'])"
   ]
  },
  {
   "cell_type": "code",
   "execution_count": 4,
   "id": "03272b26",
   "metadata": {},
   "outputs": [
    {
     "data": {
      "text/plain": [
       "4839.166666666667"
      ]
     },
     "execution_count": 4,
     "metadata": {},
     "output_type": "execute_result"
    }
   ],
   "source": [
    "statistics.mean([1,2,3,4,4,5,65,6,7,65,43,57865])"
   ]
  },
  {
   "cell_type": "code",
   "execution_count": null,
   "id": "bafa330e",
   "metadata": {},
   "outputs": [],
   "source": []
  }
 ],
 "metadata": {
  "kernelspec": {
   "display_name": "Python 3 (ipykernel)",
   "language": "python",
   "name": "python3"
  },
  "language_info": {
   "codemirror_mode": {
    "name": "ipython",
    "version": 3
   },
   "file_extension": ".py",
   "mimetype": "text/x-python",
   "name": "python",
   "nbconvert_exporter": "python",
   "pygments_lexer": "ipython3",
   "version": "3.9.12"
  }
 },
 "nbformat": 4,
 "nbformat_minor": 5
}
